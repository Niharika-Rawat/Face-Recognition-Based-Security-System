{
 "cells": [
  {
   "cell_type": "markdown",
   "id": "62d66d2d-9133-4d64-a51d-49064fd22f84",
   "metadata": {},
   "source": [
    "# Generate Dataset"
   ]
  },
  {
   "cell_type": "code",
   "execution_count": null,
   "id": "8e47d680-e3b0-484e-8247-b71f5e3c3140",
   "metadata": {},
   "outputs": [],
   "source": [
    "import cv2\n",
    "import matplotlib.pyplot as plt"
   ]
  },
  {
   "cell_type": "code",
   "execution_count": null,
   "id": "4a2e8fa0-13f9-4616-a0a5-e56c0cf7e37d",
   "metadata": {},
   "outputs": [],
   "source": [
    "def generate_dataset():\n",
    "    face_classifier=cv2.CascadeClassifier(\"haarcascade_frontalface_default.xml\")\n",
    "    def face_cropped(img):\n",
    "        gray =cv2.cvtColor(img, cv2.COLOR_BGR2GRAY)\n",
    "        faces =face_classifier.detectMultiScale(gray,1.3,5)\n",
    "        #scaling factor 1.3\n",
    "        #minimum neighbour=5\n",
    "\n",
    "        if faces is ():\n",
    "            return None\n",
    "        for(x,y,w,h) in faces:\n",
    "            cropped_face=img[y:y+h, x:x+w]\n",
    "        return cropped_face\n",
    "\n",
    "    cap= cv2.VideoCapture(0)\n",
    "    id=3\n",
    "    img_id=0\n",
    "\n",
    "    while True:\n",
    "        ret, frame=cap.read()\n",
    "        if face_cropped(frame) is not None:\n",
    "            img_id+=1\n",
    "            face=cv2.resize(face_cropped(frame),(200,200))\n",
    "\n",
    "            face = cv2.cvtColor(face, cv2.COLOR_BGR2GRAY)\n",
    "            file_name_path=\"data/user.\"+str(id)+\".\"+str(img_id)+\".jpg\"\n",
    "            cv2.imwrite(file_name_path, face)\n",
    "            cv2.putText(face,str(img_id),(50,50),cv2.FONT_HERSHEY_COMPLEX,1,(0,255,0),2)\n",
    "\n",
    "            cv2.imshow(\"cropped face\", face)\n",
    "            if cv2.waitKey(1)==13 or int(img_id)==200:\n",
    "                break\n",
    "    cap.release()\n",
    "    cv2.destroyAllWindows()\n",
    "    print(\"collecting samples completed\")\n",
    "\n",
    "# generate_dataset()\n",
    "        "
   ]
  },
  {
   "cell_type": "markdown",
   "id": "5e8a125a-89fa-4df2-ab96-65c178e7f38c",
   "metadata": {},
   "source": [
    "# Train the classifier and save it"
   ]
  },
  {
   "cell_type": "code",
   "execution_count": null,
   "id": "3a23ef39-df22-45b2-b1a0-0d9f027ea0bc",
   "metadata": {},
   "outputs": [],
   "source": [
    "import numpy as np\n",
    "from PIL import Image \n",
    "import os\n",
    "import cv2"
   ]
  },
  {
   "cell_type": "code",
   "execution_count": null,
   "id": "a1692426-0c48-4368-85d3-55de735f63fc",
   "metadata": {},
   "outputs": [],
   "source": [
    "def train_classifier(data_dir):\n",
    "    path=[os.path.join(data_dir,f)for f in os.listdir(data_dir)]\n",
    "    faces=[] \n",
    "    ids=[]\n",
    "    for image in path:\n",
    "        img=Image.open(image).convert('L'); \n",
    "        imageNp=np.array(img, 'uint8')\n",
    "        id=int(os.path.split(image)[1].split(\".\")[1]) \n",
    "        faces.append(imageNp)\n",
    "        ids.append(id)\n",
    "    ids=np.array(ids)\n",
    "    \n",
    "    #train the classifier and save\n",
    "    clf=cv2.face.LBPHFaceRecognizer_create() \n",
    "    clf.train(faces,ids)\n",
    "    clf.write(\"classifier.xml\")\n",
    "    \n",
    "train_classifier(\"data\")"
   ]
  },
  {
   "cell_type": "markdown",
   "id": "6b8e5c5d-3d2f-47af-95b7-b28362ad8521",
   "metadata": {},
   "source": [
    "# Detect the face"
   ]
  },
  {
   "cell_type": "code",
   "execution_count": null,
   "id": "b0a76935-3e14-4650-a4db-dba727d25dbc",
   "metadata": {},
   "outputs": [],
   "source": [
    "import cv2\n",
    "import numpy as np\n",
    "from PIL import Image \n",
    "import os"
   ]
  },
  {
   "cell_type": "code",
   "execution_count": null,
   "id": "5b260374-b220-45ca-8a9d-93ecbfc88459",
   "metadata": {},
   "outputs": [],
   "source": [
    "def draw_boundary(img,classifier,scalefactor,minNeighbours,color,text,clf): \n",
    "    gray_image=cv2.cvtColor(img,cv2.COLOR_BGR2GRAY)\n",
    "    features=classifier.detectMultiScale(gray_image,scaleFactor,minNeighbours)\n",
    "    coords=[]\n",
    "    \n",
    "    for (x,y,w,h) in features:\n",
    "        cv2.rectangle(img,(x,y),(x+w,y+h),color,2)\n",
    "        id,pred=clf.predict(gray_image[y:y+h,x:x+w]) \n",
    "        confidence=int(100*(1-pred/300))\n",
    "        \n",
    "        if confidence>79:\n",
    "            if id==1:\n",
    "                cv2.putText(img,\"nandana\",(x,y-5),cv2.FONT_HERSHEY_SIMPLEX,0.8,(0,255,0),1,cv2.LINE_AA)\n",
    "            if id==2:\n",
    "                cv2.putText(img,\"Kapil\",(x,y-5),cv2.FONT_HERSHEY_SIMPLEX,0.8,(0,255,0),1,cv2.LINE_AA)\n",
    "            if id==3:\n",
    "                cv2.putText(img,\"Niharika\",(x,y-5),cv2.FONT_HERSHEY_SIMPLEX,0.8,(0,255,0),1,cv2.LINE_AA)\n",
    "        else:\n",
    "            cv2.putText(img,\"unkown\",(x,y-5),cv2.FONT_HERSHEY_SIMPLEX,0.8,(0,0,255),1,cv2.LINE_AA) \n",
    "        coords=[x,y,w,h]\n",
    "    return coords\n",
    "    \n",
    "def recognize(img,clf,faceCascade):\n",
    "    coords=draw_boundary(img,faceCascade,1.1,10,(255,255,255),\"face\",clf)\n",
    "    return img\n",
    "faceCascade=cv2.CascadeClassifier(\"haarcascade_frontalface_default.xml\") \n",
    "clf=cv2.face.LBPHFaceRecognizer_create()\n",
    "clf.read(\"classifier.xml\")\n",
    "\n",
    "video_capture=cv2.VideoCapture(0)\n",
    "\n",
    "while True:\n",
    "    ret,img=video_capture.read() \n",
    "    img=recognize(img,clf,faceCascade) \n",
    "    cv2.imshow(\"face detection\", img)\n",
    "    \n",
    "    if cv2.waitKey(1)==13:\n",
    "        break\n",
    "        \n",
    "video_capture.release() \n",
    "cv2.destroyAllWindows()\n"
   ]
  }
 ],
 "metadata": {
  "kernelspec": {
   "display_name": "Python 3 (ipykernel)",
   "language": "python",
   "name": "python3"
  },
  "language_info": {
   "codemirror_mode": {
    "name": "ipython",
    "version": 3
   },
   "file_extension": ".py",
   "mimetype": "text/x-python",
   "name": "python",
   "nbconvert_exporter": "python",
   "pygments_lexer": "ipython3",
   "version": "3.13.3"
  }
 },
 "nbformat": 4,
 "nbformat_minor": 5
}
